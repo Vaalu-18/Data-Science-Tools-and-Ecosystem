{
 "cells": [
  {
   "cell_type": "markdown",
   "id": "1841e101-041d-465f-85e6-447f6059ee58",
   "metadata": {},
   "source": [
    "# Data Science Tool and Ecosystem"
   ]
  },
  {
   "cell_type": "markdown",
   "id": "0ec7bf83-b8fb-4409-b4d8-1609cf6a16fe",
   "metadata": {},
   "source": [
    "In this notebook, Data Science Tools and Ecosystem are summarized"
   ]
  },
  {
   "cell_type": "markdown",
   "id": "0bfac92b-a47d-4db8-b8f9-018100815be9",
   "metadata": {},
   "source": [
    "**Objectives**\n",
    "* Data Science Tools\n",
    "    * Popular languages in Data Science\n",
    "    * Commonly libraries in Data Science\n",
    "* Arithmetic expressions\n",
    "    * Multiply\n",
    "    * Add\n",
    "    * Convert"
   ]
  },
  {
   "cell_type": "markdown",
   "id": "d76235d4-9ece-40a6-8f38-cfe082deb18a",
   "metadata": {},
   "source": [
    "Some of the popular languages that Data Scientists use are:\n",
    "1. Python\n",
    "2. R\n",
    "3. Scala"
   ]
  },
  {
   "cell_type": "markdown",
   "id": "1a12a263-bbf8-4fd0-a04d-32af2d593bdd",
   "metadata": {},
   "source": [
    "Some of the commonly used libraries used by Data Scientists include:\n",
    "1. Pandas\n",
    "2. matplotlib\n",
    "3. ggplot"
   ]
  },
  {
   "cell_type": "markdown",
   "id": "d3e947ce-0e73-4a3f-8e85-482cc72e2a84",
   "metadata": {
    "tags": []
   },
   "source": [
    "|Data Science Tools.|\n",
    "---------------------\n",
    "|RStudio|\n",
    "|Apache Spark|\n",
    "|Hadoop|"
   ]
  },
  {
   "cell_type": "markdown",
   "id": "66896d23-ba4b-49a0-9fc8-ac5c7c727d41",
   "metadata": {
    "tags": []
   },
   "source": [
    "### Below are a few examples of evaluating arithmetic expression in Python"
   ]
  },
  {
   "cell_type": "code",
   "execution_count": 8,
   "id": "f59f50d6-dadd-4425-aa9d-302f067300eb",
   "metadata": {
    "tags": []
   },
   "outputs": [
    {
     "name": "stdout",
     "output_type": "stream",
     "text": [
      "17\n"
     ]
    }
   ],
   "source": [
    "# This is a simple arithmetic expression to multiply then add integers\n",
    "print((3*4)+5)"
   ]
  },
  {
   "cell_type": "code",
   "execution_count": 9,
   "id": "dcb62174-6b12-4531-8a24-5555734e46d6",
   "metadata": {
    "tags": []
   },
   "outputs": [
    {
     "name": "stdout",
     "output_type": "stream",
     "text": [
      "3.3333333333333335\n"
     ]
    }
   ],
   "source": [
    "# This will convert 200 minutes to hours by diving by 60\n",
    "print(200/60)"
   ]
  },
  {
   "cell_type": "markdown",
   "id": "f761c36b-ff16-49d2-80a9-8d57c191049f",
   "metadata": {},
   "source": [
    "## Author\n",
    "Omar Uriel Valdez Ruiz"
   ]
  }
 ],
 "metadata": {
  "kernelspec": {
   "display_name": "Python 3 (ipykernel)",
   "language": "python",
   "name": "python3"
  },
  "language_info": {
   "codemirror_mode": {
    "name": "ipython",
    "version": 3
   },
   "file_extension": ".py",
   "mimetype": "text/x-python",
   "name": "python",
   "nbconvert_exporter": "python",
   "pygments_lexer": "ipython3",
   "version": "3.11.5"
  }
 },
 "nbformat": 4,
 "nbformat_minor": 5
}
